{
 "cells": [
  {
   "cell_type": "markdown",
   "metadata": {},
   "source": [
    "###### Exercice 1\n",
    "\n",
    "Créer une fonction qui conjuge un verbe du premier groupe au présent de l'indicatif à la personne demandée telle que:"
   ]
  },
  {
   "cell_type": "code",
   "execution_count": 1,
   "metadata": {},
   "outputs": [
    {
     "name": "stdout",
     "output_type": "stream",
     "text": [
      "commences\n"
     ]
    }
   ],
   "source": [
    "def conjugue (infinitif, num_pers):\n",
    "    liste_lettre = []\n",
    "    for lettre in infinitif:\n",
    "        liste_lettre.append(lettre)\n",
    "    terminaison = {1:\"e\", 2:\"es\", 3:\"e\", 4:\"ons\", 5:\"ez\", 6:\"ent\"}\n",
    "    del liste_lettre[-2:]\n",
    "    if liste_lettre[-1] == \"g\" and num_pers == 4:\n",
    "        liste_lettre.append(\"e\")\n",
    "    elif liste_lettre[-1] == \"c\" and num_pers == 4:\n",
    "        del liste_lettre[-1:]\n",
    "        liste_lettre.append(\"ç\")\n",
    "    liste_lettre.append(terminaison[num_pers])\n",
    "    resultat = ''.join(liste_lettre)\n",
    "    return(resultat)\n",
    "\n",
    "print(conjugue(\"commencer\", 2))\n"
   ]
  },
  {
   "cell_type": "code",
   "execution_count": 2,
   "metadata": {},
   "outputs": [],
   "source": [
    "# Vérification\n",
    "assert conjugue(\"manger\", 2) == \"manges\"\n",
    "assert conjugue(\"balayer\", 5) == \"balayez\"\n",
    "assert conjugue(\"travailler\", 4) == \"travaillons\""
   ]
  },
  {
   "cell_type": "markdown",
   "metadata": {},
   "source": [
    "## Exercice 2\n",
    "\n",
    "Créer une fonction qui conjuge un verbe du premier groupe au temps de l'indicatif demandé (entre présent et imparfait)\n",
    "à la personne demandée telle que:"
   ]
  },
  {
   "cell_type": "code",
   "execution_count": 10,
   "metadata": {},
   "outputs": [
    {
     "data": {
      "text/plain": [
       "'mangent'"
      ]
     },
     "execution_count": 10,
     "metadata": {},
     "output_type": "execute_result"
    }
   ],
   "source": [
    "def conjugue (infinitif, num_pers, temps):\n",
    "    liste_lettre = []\n",
    "    for lettre in infinitif:\n",
    "        liste_lettre.append(lettre)\n",
    "    terminaison_présent = {1:\"e\", 2:\"es\", 3:\"e\", 4:\"ons\", 5:\"ez\", 6:\"ent\"}\n",
    "    terminaison_imparfait = {1:\"ais\", 2:\"ais\", 3:\"ait\", 4:\"ions\", 5:\"iez\", 6:\"aient\"}\n",
    "    del liste_lettre[-2:]\n",
    "    if liste_lettre[-1] == \"g\" and num_pers == 4:\n",
    "        liste_lettre.append(\"e\")\n",
    "    if liste_lettre[-1] == \"c\":\n",
    "        del liste_lettre[-1:]\n",
    "        liste_lettre.append(\"ç\")\n",
    "    if temps == \"présent\":\n",
    "        liste_lettre.append(terminaison_présent[num_pers])\n",
    "    if temps == \"imparfait\":\n",
    "        liste_lettre.append(terminaison_imparfait[num_pers])\n",
    "    resultat = ''.join(liste_lettre)\n",
    "    return(resultat)\n",
    "    if terminaison_présent.values() in verbe or terminaison_imparfait.values() in verbe:\n",
    "        infinitif = verbe.remove(terminaison_présent.values)\n",
    "\n",
    "conjugue(\"manger\", 6, \"présent\")"
   ]
  },
  {
   "cell_type": "code",
   "execution_count": 5,
   "metadata": {},
   "outputs": [],
   "source": [
    "# Vérification\n",
    "assert conjugue(\"manger\", 2, \"présent\") == \"manges\"\n",
    "assert conjugue(\"balayer\", 5, \"présent\") == \"balayez\"\n",
    "assert conjugue(\"travailler\", 4, \"imparfait\") == \"travaillions\""
   ]
  },
  {
   "cell_type": "markdown",
   "metadata": {},
   "source": [
    "## Exercice 3\n",
    "\n",
    "Créer une fonction qui détermine le verbe, les temps et les personnes possible d'un verbe conjugé au premier groupe, telle que:"
   ]
  },
  {
   "cell_type": "code",
   "execution_count": 22,
   "metadata": {},
   "outputs": [
    {
     "data": {
      "text/plain": [
       "[['manger', 4, 'présent']]"
      ]
     },
     "execution_count": 22,
     "metadata": {},
     "output_type": "execute_result"
    }
   ],
   "source": [
    "def analyse (verbe):\n",
    "    terminaison_présent = {1:\"e\", 2:\"es\", 3:\"e\", 4:\"ons\", 5:\"ez\", 6:\"ent\"}\n",
    "    terminaison_imparfait = {1:\"ais\", 2:\"ais\", 3:\"ait\", 4:\"ions\", 5:\"iez\", 6:\"aient\"}\n",
    "    voyelle = [\"a\", \"e\", \"i\", \"o\", \"u\", \"y\"]\n",
    "    #trouver la terminaison\n",
    "    if verbe[-3] not in voyelle:\n",
    "        if verbe[-2] not in voyelle:\n",
    "            terminaison = verbe[-1:]\n",
    "        else:\n",
    "            terminaison = verbe[-2:]\n",
    "    elif verbe[-3] == \"y\":\n",
    "        terminaison = verbe[-2:]\n",
    "    else:\n",
    "        if verbe[-4] == \"i\":\n",
    "            if verbe[-5] == \"a\":\n",
    "                terminaison = verbe[-5:]\n",
    "            else:\n",
    "                terminaison = verbe[-4:]\n",
    "        else:\n",
    "            terminaison = verbe[-3:]\n",
    "    #trouver l'infinitif\n",
    "    infinitif = verbe.replace(terminaison,\"er\")\n",
    "    if \"ee\" in infinitif:\n",
    "        infinitif = infinitif.replace(\"ee\", \"e\")\n",
    "    #trouver la personne et le temps\n",
    "    liste_tuple_présent = []\n",
    "    liste_tuple_présent = list(terminaison_présent.items())\n",
    "    liste_tuple_imparfait = []\n",
    "    liste_tuple_imparfait = list(terminaison_imparfait.items())\n",
    "    resultat_présent = []\n",
    "    resultat_imparfait = []\n",
    "    for cas in liste_tuple_présent:\n",
    "        if cas[1] == terminaison:\n",
    "            resultat_présent.append(cas[0])\n",
    "    for cas in liste_tuple_imparfait:\n",
    "        if cas[1] == terminaison:\n",
    "            resultat_imparfait.append(cas[0])\n",
    "            print(resultat_imparfait)\n",
    "    #mise en page du resultat\n",
    "    resultat = []\n",
    "    for resultats_présent in resultat_présent:\n",
    "        resultat_unité = []\n",
    "        resultat_unité.append(infinitif)\n",
    "        resultat_unité.append(resultats_présent)\n",
    "        resultat_unité.append(\"présent\")\n",
    "        resultat.append(resultat_unité)\n",
    "    for resultats_imparfait in resultat_imparfait:\n",
    "        resultat_unité = []\n",
    "        resultat_unité.append(infinitif)\n",
    "        resultat_unité.append(resultats_imparfait)\n",
    "        resultat_unité.append(\"imparfait\")\n",
    "        resultat.append(resultat_unité)\n",
    "    return(resultat)\n",
    "analyse (\"mangeons\")"
   ]
  },
  {
   "cell_type": "code",
   "execution_count": 37,
   "metadata": {},
   "outputs": [
    {
     "ename": "AssertionError",
     "evalue": "",
     "output_type": "error",
     "traceback": [
      "\u001b[1;31m---------------------------------------------------------------------------\u001b[0m",
      "\u001b[1;31mAssertionError\u001b[0m                            Traceback (most recent call last)",
      "\u001b[1;32m<ipython-input-37-53cd55556b02>\u001b[0m in \u001b[0;36m<module>\u001b[1;34m\u001b[0m\n\u001b[0;32m      1\u001b[0m \u001b[1;31m# Vérification\u001b[0m\u001b[1;33m\u001b[0m\u001b[1;33m\u001b[0m\u001b[1;33m\u001b[0m\u001b[0m\n\u001b[1;32m----> 2\u001b[1;33m \u001b[1;32massert\u001b[0m \u001b[0manalyse\u001b[0m\u001b[1;33m(\u001b[0m\u001b[1;34m\"mange\"\u001b[0m\u001b[1;33m)\u001b[0m \u001b[1;33m==\u001b[0m \u001b[1;33m[\u001b[0m\u001b[1;33m(\u001b[0m\u001b[1;34m\"manger\"\u001b[0m\u001b[1;33m,\u001b[0m \u001b[1;36m1\u001b[0m\u001b[1;33m,\u001b[0m \u001b[1;34m\"présent\"\u001b[0m\u001b[1;33m)\u001b[0m\u001b[1;33m,\u001b[0m \u001b[1;33m(\u001b[0m\u001b[1;34m\"manger\"\u001b[0m\u001b[1;33m,\u001b[0m \u001b[1;36m3\u001b[0m\u001b[1;33m,\u001b[0m \u001b[1;34m\"présent\"\u001b[0m\u001b[1;33m)\u001b[0m\u001b[1;33m]\u001b[0m\u001b[1;33m\u001b[0m\u001b[1;33m\u001b[0m\u001b[0m\n\u001b[0m\u001b[0;32m      3\u001b[0m \u001b[1;32massert\u001b[0m \u001b[0manalyse\u001b[0m\u001b[1;33m(\u001b[0m\u001b[1;34m\"balayez\"\u001b[0m\u001b[1;33m)\u001b[0m \u001b[1;33m==\u001b[0m \u001b[1;33m[\u001b[0m\u001b[1;33m(\u001b[0m\u001b[1;34m\"balayer\"\u001b[0m\u001b[1;33m,\u001b[0m \u001b[1;36m5\u001b[0m\u001b[1;33m,\u001b[0m \u001b[1;34m\"présent\"\u001b[0m\u001b[1;33m)\u001b[0m\u001b[1;33m]\u001b[0m\u001b[1;33m\u001b[0m\u001b[1;33m\u001b[0m\u001b[0m\n\u001b[0;32m      4\u001b[0m \u001b[1;32massert\u001b[0m \u001b[0manalyse\u001b[0m\u001b[1;33m(\u001b[0m\u001b[1;34m\"travaillions\"\u001b[0m\u001b[1;33m)\u001b[0m \u001b[1;33m==\u001b[0m \u001b[1;33m[\u001b[0m\u001b[1;33m(\u001b[0m\u001b[1;34m\"travailler\"\u001b[0m\u001b[1;33m,\u001b[0m \u001b[1;36m4\u001b[0m\u001b[1;33m,\u001b[0m \u001b[1;34m\"imparfait\"\u001b[0m\u001b[1;33m)\u001b[0m\u001b[1;33m]\u001b[0m\u001b[1;33m\u001b[0m\u001b[1;33m\u001b[0m\u001b[0m\n",
      "\u001b[1;31mAssertionError\u001b[0m: "
     ]
    }
   ],
   "source": [
    "# Vérification\n",
    "assert analyse(\"mange\") == [(\"manger\", 1, \"présent\"), (\"manger\", 3, \"présent\")]\n",
    "assert analyse(\"balayez\") == [(\"balayer\", 5, \"présent\")]\n",
    "assert analyse(\"travaillions\") == [(\"travailler\", 4, \"imparfait\")]"
   ]
  },
  {
   "cell_type": "markdown",
   "metadata": {},
   "source": [
    "## Exercice 4\n",
    "\n",
    "Créer une fonction qui pour un fichier texte donné compte le nombre de mots et retourne les 5 mots les plus fréquents."
   ]
  },
  {
   "cell_type": "code",
   "execution_count": 58,
   "metadata": {},
   "outputs": [
    {
     "name": "stdout",
     "output_type": "stream",
     "text": [
      "[('de', 5), ('que', 5), ('car', 6), ('ne', 7), ('vous', 10)]\n",
      "<class 'list'>\n",
      "[('vous', 12), ('me', 13), ('ne', 13), ('que', 15), ('je', 30)]\n",
      "<class 'list'>\n"
     ]
    },
    {
     "data": {
      "text/plain": [
       "[('vous', 12), ('me', 13), ('ne', 13), ('que', 15), ('je', 30)]"
      ]
     },
     "execution_count": 58,
     "metadata": {},
     "output_type": "execute_result"
    }
   ],
   "source": [
    "def top5 (texte):\n",
    "    texte = open(texte)\n",
    "    texte = texte.read()\n",
    "    texte = texte.lower()\n",
    "    liste_mots_texte = []\n",
    "    liste_mots_texte = texte.split()\n",
    "    compteur = {}\n",
    "    for mot in liste_mots_texte:\n",
    "        compteur[mot] = liste_mots_texte.count(mot)\n",
    "    resultat = []\n",
    "    decompte = 1\n",
    "    compteur_trié = sorted(compteur.items(), key=lambda x: x[1])\n",
    "    while decompte != 6:\n",
    "        resultat.append(compteur_trié[-decompte])\n",
    "        decompte += 1\n",
    "    resultat = sorted(resultat, key=lambda student: student[1])\n",
    "    return resultat\n",
    "top5(\"../data/Ballade.XXVIII.dePisan.txt\")\n",
    "top5(\"../data/lettre.louisemichel.txt\")\n"
   ]
  },
  {
   "cell_type": "code",
   "execution_count": 59,
   "metadata": {},
   "outputs": [
    {
     "name": "stdout",
     "output_type": "stream",
     "text": [
      "[('de', 5), ('que', 5), ('car', 6), ('ne', 7), ('vous', 10)]\n",
      "<class 'list'>\n",
      "[('vous', 12), ('me', 13), ('ne', 13), ('que', 15), ('je', 30)]\n",
      "<class 'list'>\n"
     ]
    }
   ],
   "source": [
    "# Vérification\n",
    "assert top5(\"../data/Ballade.XXVIII.dePisan.txt\") == [('de', 5), ('que', 5), ('car', 6), ('ne', 7), ('vous', 10)]\n",
    "assert top5(\"../data/lettre.louisemichel.txt\") == [('vous', 12), ('me', 13), ('ne', 13), ('que', 15), ('je', 30)]"
   ]
  }
 ],
 "metadata": {
  "kernelspec": {
   "display_name": "Python 3",
   "language": "python",
   "name": "python3"
  },
  "language_info": {
   "codemirror_mode": {
    "name": "ipython",
    "version": 3
   },
   "file_extension": ".py",
   "mimetype": "text/x-python",
   "name": "python",
   "nbconvert_exporter": "python",
   "pygments_lexer": "ipython3",
   "version": "3.6.9"
  }
 },
 "nbformat": 4,
 "nbformat_minor": 2
}
