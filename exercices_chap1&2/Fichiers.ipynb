{
 "cells": [
  {
   "cell_type": "markdown",
   "metadata": {},
   "source": [
    "## Boucles\n",
    "\n",
    "Sachant que la fonction et les paramètres `glob(\"../data/*.txt\")` dans la première cellule retourne l'ensemble des fichiers disponibles finissant par `*.txt` dans `../data`:\n",
    "\n",
    "1. Comptez le nombre de chaque mot dans chaque texte\n",
    "2. Combien de mots ne sont présents que dans un texte ?"
   ]
  },
  {
   "cell_type": "code",
   "execution_count": 1,
   "metadata": {},
   "outputs": [],
   "source": [
    "# Exécuter mais ne pas modifier.\n",
    "from glob import glob"
   ]
  },
  {
   "cell_type": "code",
   "execution_count": 46,
   "metadata": {},
   "outputs": [
    {
     "name": "stdout",
     "output_type": "stream",
     "text": [
      "Il y a 2245 mots qui ne sont que dans un seul texte !\n"
     ]
    }
   ],
   "source": [
    "glob(\"../data/*.txt\")\n",
    "tous_les_textes = []\n",
    "distribution_chaque_texte = {}\n",
    "#question 1\n",
    "for fichier in glob(\"../data/*.txt\"):\n",
    "    with open(fichier, encoding='UTF-8') as doc:\n",
    "        doc = doc.read()\n",
    "        titre = doc[0:15]\n",
    "        doc = doc.lower()\n",
    "        ponctuation = '!@#$%^&*()_+={}[]:;\"\\|<>,.?/~`'\n",
    "        for marqueur in ponctuation:\n",
    "            if marqueur == \"'\":\n",
    "                doc.replace(\"'\",\" \")\n",
    "            elif marqueur == \"-\":\n",
    "                doc.replace(\"-\",\" \")\n",
    "            else:\n",
    "                doc.replace(marqueur, \"\")\n",
    "        distribution = {}\n",
    "        mots = doc.split()\n",
    "        for mot in mots:\n",
    "            if mot not in distribution:\n",
    "                distribution[mot] = mots.count(mot)\n",
    "        distribution_triée = sorted(distribution.items(), key=lambda x: x[1])\n",
    "        distribution_chaque_texte[titre] = distribution_triée\n",
    "\n",
    "#question 2 \n",
    "distribution_mots_uniques = {}\n",
    "distribution_doublons = {}\n",
    "for fichier in glob(\"../data/*.txt\"):\n",
    "    with open(fichier, encoding='UTF-8') as doc:\n",
    "        doc = doc.read()\n",
    "        titre = doc[0:15]\n",
    "        doc = doc.lower()\n",
    "        doc = doc.replace(\"'\",\" \")\n",
    "        doc = doc.replace(\"-\",\" \")\n",
    "        ponctuation = '!@#$%^&*()_+={}[]:;\"\\|<>,.?/~`'\n",
    "        for marqueur in ponctuation:\n",
    "            doc = doc.replace(marqueur, \"\")\n",
    "        mots = doc.split()\n",
    "        for mot in mots:\n",
    "            if mot not in distribution_mots_uniques.keys() and mot not in distribution_doublons.keys():\n",
    "                distribution_mots_uniques[mot] = titre\n",
    "            elif mot not in distribution_mots_uniques.keys() and mot in distribution_doublons.keys():\n",
    "                distribution_doublons[mot] = mots.count(mot)\n",
    "            elif mot in distribution_mots_uniques.keys() and mot not in distribution_doublons.keys():\n",
    "                del distribution_mots_uniques[mot]\n",
    "                distribution_doublons[mot] = mots.count(mot)\n",
    "print(\"Il y a\", len(distribution_mots_uniques),\"mots qui ne sont que dans un seul texte !\")\n",
    "\n"
   ]
  },
  {
   "cell_type": "markdown",
   "metadata": {},
   "source": [
    "## De plein texte à TEI\n",
    "\n",
    "À partir de la variage `text`, créer un fichier `lesdeuxamants.xml` qui soit de la TEI valide. Le corps du texte doit contenir une `div`, un `head`, des `lg`s et des `l`s. Les `l`s seront numérotées via l'attribut `n`."
   ]
  },
  {
   "cell_type": "code",
   "execution_count": 17,
   "metadata": {},
   "outputs": [],
   "source": [
    "# Exécuter mais ne pas modifier\n",
    "with open(\"../data/lesdeuxamants.txt\", encoding='UTF-8') as f:\n",
    "    text = f.read()\n",
    "\n",
    "text = text.split(\"\\n\")\n",
    "with open(\"../data/lesdeuxamantsTEI.txt\", encoding='UTF-8', mode=\"w\") as tei:\n",
    "    tei = tei.write('<?xml version=\"1.0\" encoding=\"UTF-8\"?>\\n<?xml-model href=\"http://www.tei-c.org/release/xml/tei/custom/schema/relaxng/tei_all.rng\" type=\"application/xml\" schematypens=\"http://relaxng.org/ns/structure/1.0\"?>\\n<?xml-model href=\"http://www.tei-c.org/release/xml/tei/custom/schema/relaxng/tei_all.rng\" type=\"application/xml\"schematypens=\"http://purl.oclc.org/dsdl/schematron\"?>\\n<TEI xmlns=\"http://www.tei-c.org/ns/1.0\">\\n<teiHeader>\\n<fileDesc>\\n<titleStmt>\\n<title>Les deux amants</title>\\n<author>Marie de France</author>\\n</titleStmt>\\n<publicationStmt>\\n<p>Manuscrit datant du XIIIe siècle</p>\\n</publicationStmt>\\n<sourceDesc>\\n<p>Copie de Wikisource</p>\\n</sourceDesc>\\n</fileDesc>\\n</teiHeader>\\n<text>\\n<body>\\n<div>\\n<lgs>')\n",
    "\n",
    "numerotation = 1\n",
    "with open(\"../data/lesdeuxamantsTEI.txt\", encoding='UTF-8', mode=\"a\") as tei:\n",
    "    for vers in text:\n",
    "        if vers == \"\":\n",
    "            tei.write(\"</lg>\\n<lg>\")\n",
    "        else:\n",
    "            tei.write('\\n<l n=\"')\n",
    "            tei.write(repr(numerotation))\n",
    "            tei.write('\">')\n",
    "            tei.write(vers)\n",
    "            tei.write(\"</l>\")\n",
    "            numerotation += 1\n",
    "    tei.write(\"\\n</lg>\\n</div>\\n</body>\\n</text>\\n</tei>\")"
   ]
  }
 ],
 "metadata": {
  "kernelspec": {
   "display_name": "Python 3",
   "language": "python",
   "name": "python3"
  },
  "language_info": {
   "codemirror_mode": {
    "name": "ipython",
    "version": 3
   },
   "file_extension": ".py",
   "mimetype": "text/x-python",
   "name": "python",
   "nbconvert_exporter": "python",
   "pygments_lexer": "ipython3",
   "version": "3.6.9"
  }
 },
 "nbformat": 4,
 "nbformat_minor": 2
}
